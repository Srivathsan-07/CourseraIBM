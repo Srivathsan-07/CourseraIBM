{
 "cells": [
  {
   "cell_type": "markdown",
   "id": "0523b75e-1ed8-4378-ae56-0547d7a20cad",
   "metadata": {
    "tags": []
   },
   "source": [
    "# New"
   ]
  },
  {
   "cell_type": "markdown",
   "id": "e02a1bc1-6180-4868-b113-ed75b0240a12",
   "metadata": {},
   "source": [
    "## Introduction:\n",
    "This is my new pyhton notebook created through jupyter."
   ]
  },
  {
   "cell_type": "markdown",
   "id": "bd545c46-00cf-4c62-bd0d-442ced849625",
   "metadata": {},
   "source": [
    "## Data Science Languages:\n",
    "1. Pyhton\n",
    "2. SQL\n",
    "3. R\n",
    "4. Julia"
   ]
  },
  {
   "cell_type": "markdown",
   "id": "1bef6bcb-e21e-4314-b8a7-f1b41b14ed58",
   "metadata": {},
   "source": [
    "## Data Science Libraries"
   ]
  },
  {
   "cell_type": "code",
   "execution_count": 30,
   "id": "0e1e8223-8907-4bf4-b274-026aa6c16aec",
   "metadata": {},
   "outputs": [],
   "source": [
    "data_science_libraries = [\n",
    "    \"numpy\", \n",
    "    \"pandas\", \n",
    "    \"scikitlearn\", \n",
    "    \"matplotlib\", \n",
    "    \"pyplot\", \n",
    "    \"seaborn\"\n",
    "]"
   ]
  },
  {
   "cell_type": "code",
   "execution_count": 32,
   "id": "85c7ccf9-1783-42cd-b2ec-26355dbf50f6",
   "metadata": {},
   "outputs": [
    {
     "data": {
      "text/plain": [
       "['numpy', 'pandas', 'scikitlearn', 'matplotlib', 'pyplot', 'seaborn']"
      ]
     },
     "execution_count": 32,
     "metadata": {},
     "output_type": "execute_result"
    }
   ],
   "source": [
    "data_science_libraries"
   ]
  },
  {
   "cell_type": "markdown",
   "id": "4cf28efa-79bb-4b8f-a5d4-d19d14b5d7cd",
   "metadata": {},
   "source": [
    "## Data Science tools\n",
    "1. Power BI\n",
    "2. Apache Spark\n",
    "3. XLS\n",
    "4. Jupyter"
   ]
  },
  {
   "cell_type": "markdown",
   "id": "5e2ba06b-e0d9-4dd9-85a7-a71a0318ab95",
   "metadata": {},
   "source": [
    "## Arithmatic Expression\n",
    "\n",
    "Arithmetic expressions help users perform mathematical operations in python.\n",
    "\n",
    "\n",
    "\n",
    "### Addition"
   ]
  },
  {
   "cell_type": "code",
   "execution_count": 10,
   "id": "420397a2-f155-4465-835b-62c5de5ba514",
   "metadata": {},
   "outputs": [
    {
     "data": {
      "text/plain": [
       "149"
      ]
     },
     "execution_count": 10,
     "metadata": {},
     "output_type": "execute_result"
    }
   ],
   "source": [
    "54 + 95"
   ]
  },
  {
   "cell_type": "markdown",
   "id": "e07dce60-000f-4544-b9f9-066ad1812528",
   "metadata": {},
   "source": [
    "###  Subtraction"
   ]
  },
  {
   "cell_type": "code",
   "execution_count": 15,
   "id": "71523b6a-0b3b-4b37-aba9-343fa68c9bb5",
   "metadata": {},
   "outputs": [
    {
     "data": {
      "text/plain": [
       "-35"
      ]
     },
     "execution_count": 15,
     "metadata": {},
     "output_type": "execute_result"
    }
   ],
   "source": [
    "62 - 97"
   ]
  },
  {
   "cell_type": "markdown",
   "id": "8bbb3ce7-8991-4fe3-9f08-09cc97d61dbc",
   "metadata": {},
   "source": [
    "### Multiplication"
   ]
  },
  {
   "cell_type": "code",
   "execution_count": 18,
   "id": "89506c06-75ea-4486-9ee9-e7b6f26506de",
   "metadata": {},
   "outputs": [
    {
     "data": {
      "text/plain": [
       "113764"
      ]
     },
     "execution_count": 18,
     "metadata": {},
     "output_type": "execute_result"
    }
   ],
   "source": [
    "956 * 119"
   ]
  },
  {
   "cell_type": "markdown",
   "id": "f46cb511-0071-4301-ba52-42b77597a8a5",
   "metadata": {},
   "source": [
    "## Min to Hrs"
   ]
  },
  {
   "cell_type": "code",
   "execution_count": 21,
   "id": "55a83929-80e3-4b50-98ce-3a3e00d37e87",
   "metadata": {},
   "outputs": [],
   "source": [
    "x_mins = 9256"
   ]
  },
  {
   "cell_type": "code",
   "execution_count": 23,
   "id": "ed042e8d-867e-48cc-9e25-38e0deef21b0",
   "metadata": {},
   "outputs": [],
   "source": [
    "x_hrs = x_mins /60"
   ]
  },
  {
   "cell_type": "code",
   "execution_count": 25,
   "id": "487780ad-200b-4f34-9c9b-ba57c891f286",
   "metadata": {},
   "outputs": [
    {
     "data": {
      "text/plain": [
       "154.26666666666668"
      ]
     },
     "execution_count": 25,
     "metadata": {},
     "output_type": "execute_result"
    }
   ],
   "source": [
    "x_hrs"
   ]
  },
  {
   "cell_type": "markdown",
   "id": "fa4b48de-46fc-462a-b36d-20b088106fff",
   "metadata": {},
   "source": [
    "## Objectives\n",
    "\n",
    "* To learn and understand the usage of jupyter notebook\n",
    "* To gain better understanding of the working environment"
   ]
  },
  {
   "cell_type": "markdown",
   "id": "9b4e2f49-7bbb-438c-9139-7058c0c8816a",
   "metadata": {},
   "source": [
    "### Author's Name: Srivathsan M"
   ]
  },
  {
   "cell_type": "code",
   "execution_count": null,
   "id": "f8278055-3a3f-4182-96d6-3a7673e05c05",
   "metadata": {},
   "outputs": [],
   "source": []
  }
 ],
 "metadata": {
  "kernelspec": {
   "display_name": "Python 3 (ipykernel)",
   "language": "python",
   "name": "python3"
  },
  "language_info": {
   "codemirror_mode": {
    "name": "ipython",
    "version": 3
   },
   "file_extension": ".py",
   "mimetype": "text/x-python",
   "name": "python",
   "nbconvert_exporter": "python",
   "pygments_lexer": "ipython3",
   "version": "3.11.5"
  }
 },
 "nbformat": 4,
 "nbformat_minor": 5
}
